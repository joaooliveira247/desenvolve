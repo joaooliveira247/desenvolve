{
 "cells": [
  {
   "attachments": {},
   "cell_type": "markdown",
   "metadata": {},
   "source": [
    "Objetos próprios"
   ]
  },
  {
   "cell_type": "code",
   "execution_count": 15,
   "metadata": {},
   "outputs": [],
   "source": [
    "class ContaCorrente:\n",
    "    def __init__(self, codigo):\n",
    "        self.codigo = codigo\n",
    "        self.saldo = 0\n",
    "\n",
    "    def __str__(self):\n",
    "        return f\"[>>Codigo: {self.codigo} | Saldo: {self.saldo}<<]\"\n",
    "        \n",
    "    def depositar(self, valor):\n",
    "        self.saldo += valor"
   ]
  },
  {
   "cell_type": "code",
   "execution_count": 6,
   "metadata": {},
   "outputs": [
    {
     "name": "stdout",
     "output_type": "stream",
     "text": [
      "[>>Codigo: 18 | Saldo: 0<<]\n"
     ]
    }
   ],
   "source": [
    "conta_1 = ContaCorrente(18)\n",
    "print(conta_1)"
   ]
  },
  {
   "cell_type": "code",
   "execution_count": 7,
   "metadata": {},
   "outputs": [
    {
     "name": "stdout",
     "output_type": "stream",
     "text": [
      "[>>Codigo: 18 | Saldo: 500<<]\n"
     ]
    }
   ],
   "source": [
    "conta_1.depositar(500)\n",
    "print(conta_1)"
   ]
  },
  {
   "cell_type": "code",
   "execution_count": 8,
   "metadata": {},
   "outputs": [
    {
     "name": "stdout",
     "output_type": "stream",
     "text": [
      "[>>Codigo: 1891 | Saldo: 1000<<]\n"
     ]
    }
   ],
   "source": [
    "conta_2 = ContaCorrente(1891)\n",
    "conta_2.depositar(1000)\n",
    "print(conta_2)"
   ]
  },
  {
   "cell_type": "code",
   "execution_count": 17,
   "metadata": {},
   "outputs": [
    {
     "name": "stdout",
     "output_type": "stream",
     "text": [
      "[<__main__.ContaCorrente object at 0x7ff605d87e80>, <__main__.ContaCorrente object at 0x7ff6171a7e50>]\n",
      "[>>Codigo: 18 | Saldo: 500<<]\n",
      "[>>Codigo: 1891 | Saldo: 1000<<]\n",
      "[>>Codigo: 18 | Saldo: 500<<]\n"
     ]
    }
   ],
   "source": [
    "contas = [conta_1, conta_2]\n",
    "print(contas)\n",
    "for conta in contas:\n",
    "    print(conta)\n",
    "\n",
    "print(contas[0])"
   ]
  },
  {
   "cell_type": "code",
   "execution_count": 19,
   "metadata": {},
   "outputs": [
    {
     "name": "stdout",
     "output_type": "stream",
     "text": [
      "[>>Codigo: 18 | Saldo: 700<<]\n"
     ]
    }
   ],
   "source": [
    "conta_1.depositar(100)\n",
    "print(contas[0])"
   ]
  },
  {
   "cell_type": "code",
   "execution_count": 23,
   "metadata": {},
   "outputs": [
    {
     "name": "stdout",
     "output_type": "stream",
     "text": [
      "[>>Codigo: 1891 | Saldo: 1300<<]\n"
     ]
    }
   ],
   "source": [
    "contas[1].depositar(300)\n",
    "print(contas[1])"
   ]
  },
  {
   "cell_type": "code",
   "execution_count": 24,
   "metadata": {},
   "outputs": [
    {
     "name": "stdout",
     "output_type": "stream",
     "text": [
      "[>>Codigo: 18 | Saldo: 700<<] [>>Codigo: 1891 | Saldo: 1300<<]\n",
      "[>>Codigo: 18 | Saldo: 800<<] [>>Codigo: 1891 | Saldo: 1400<<]\n"
     ]
    }
   ],
   "source": [
    "def depositar_todas(contas):\n",
    "    for conta in contas:\n",
    "        conta.depositar(100)\n",
    "\n",
    "contas = [conta_1, conta_2]\n",
    "print(contas[0], contas[1])\n",
    "depositar_todas(contas)\n",
    "print(contas[0], contas[1])"
   ]
  },
  {
   "cell_type": "code",
   "execution_count": 25,
   "metadata": {},
   "outputs": [
    {
     "name": "stdout",
     "output_type": "stream",
     "text": [
      "76 [>>Codigo: 18 | Saldo: 800<<] [>>Codigo: 1891 | Saldo: 1400<<]\n"
     ]
    }
   ],
   "source": [
    "contas.insert(0, 76)\n",
    "print(contas[0], contas[1], contas[2])"
   ]
  },
  {
   "cell_type": "code",
   "execution_count": 26,
   "metadata": {},
   "outputs": [
    {
     "ename": "AttributeError",
     "evalue": "'int' object has no attribute 'depositar'",
     "output_type": "error",
     "traceback": [
      "\u001b[0;31m---------------------------------------------------------------------------\u001b[0m",
      "\u001b[0;31mAttributeError\u001b[0m                            Traceback (most recent call last)",
      "Cell \u001b[0;32mIn[26], line 1\u001b[0m\n\u001b[0;32m----> 1\u001b[0m depositar_todas(contas)\n\u001b[1;32m      2\u001b[0m \u001b[39mprint\u001b[39m(contas[\u001b[39m0\u001b[39m], contas[\u001b[39m1\u001b[39m], contas[\u001b[39m2\u001b[39m])\n",
      "Cell \u001b[0;32mIn[24], line 3\u001b[0m, in \u001b[0;36mdepositar_todas\u001b[0;34m(contas)\u001b[0m\n\u001b[1;32m      1\u001b[0m \u001b[39mdef\u001b[39;00m \u001b[39mdepositar_todas\u001b[39m(contas):\n\u001b[1;32m      2\u001b[0m     \u001b[39mfor\u001b[39;00m conta \u001b[39min\u001b[39;00m contas:\n\u001b[0;32m----> 3\u001b[0m         conta\u001b[39m.\u001b[39;49mdepositar(\u001b[39m100\u001b[39m)\n",
      "\u001b[0;31mAttributeError\u001b[0m: 'int' object has no attribute 'depositar'"
     ]
    }
   ],
   "source": [
    "depositar_todas(contas)\n",
    "print(contas[0], contas[1], contas[2])"
   ]
  }
 ],
 "metadata": {
  "kernelspec": {
   "display_name": "Python 3",
   "language": "python",
   "name": "python3"
  },
  "language_info": {
   "codemirror_mode": {
    "name": "ipython",
    "version": 3
   },
   "file_extension": ".py",
   "mimetype": "text/x-python",
   "name": "python",
   "nbconvert_exporter": "python",
   "pygments_lexer": "ipython3",
   "version": "3.10.6"
  },
  "orig_nbformat": 4,
  "vscode": {
   "interpreter": {
    "hash": "916dbcbb3f70747c44a77c7bcd40155683ae19c65e1c03b4aa3499c5328201f1"
   }
  }
 },
 "nbformat": 4,
 "nbformat_minor": 2
}
