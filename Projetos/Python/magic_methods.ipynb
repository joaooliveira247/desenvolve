{
 "cells": [
  {
   "attachments": {},
   "cell_type": "markdown",
   "metadata": {},
   "source": [
    "# Métodos magicos"
   ]
  },
  {
   "cell_type": "code",
   "execution_count": 1,
   "metadata": {},
   "outputs": [],
   "source": [
    "class ContaSalario:\n",
    "    def __init__(self, codigo):\n",
    "        self._codigo = codigo\n",
    "        self._saldo = 0\n",
    "\n",
    "    def depositar(self, valor):\n",
    "        self._saldo += valor\n",
    "\n",
    "    def __str__(self):\n",
    "        return f\"[>>Codigo: {self._codigo} | Saldo: {self._saldo} <<]\""
   ]
  },
  {
   "cell_type": "code",
   "execution_count": 2,
   "metadata": {},
   "outputs": [
    {
     "name": "stdout",
     "output_type": "stream",
     "text": [
      "[>>Codigo: 88 | Saldo: 0 <<]\n"
     ]
    }
   ],
   "source": [
    "conta_1 = ContaSalario(88)\n",
    "print(conta_1)"
   ]
  },
  {
   "cell_type": "code",
   "execution_count": 3,
   "metadata": {},
   "outputs": [
    {
     "name": "stdout",
     "output_type": "stream",
     "text": [
      "[>>Codigo: 133 | Saldo: 0 <<]\n"
     ]
    }
   ],
   "source": [
    "conta_2 = ContaSalario(133)\n",
    "print(conta_2)"
   ]
  },
  {
   "cell_type": "code",
   "execution_count": 4,
   "metadata": {},
   "outputs": [
    {
     "data": {
      "text/plain": [
       "False"
      ]
     },
     "execution_count": 4,
     "metadata": {},
     "output_type": "execute_result"
    }
   ],
   "source": [
    "conta_1 == conta_2"
   ]
  },
  {
   "cell_type": "code",
   "execution_count": 6,
   "metadata": {},
   "outputs": [
    {
     "name": "stdout",
     "output_type": "stream",
     "text": [
      "True False\n"
     ]
    }
   ],
   "source": [
    "contas = [conta_1]\n",
    "print(conta_1 in contas, conta_2 in contas)"
   ]
  },
  {
   "cell_type": "code",
   "execution_count": 7,
   "metadata": {},
   "outputs": [],
   "source": [
    "class ContaSalario:\n",
    "    def __init__(self, codigo):\n",
    "        self._codigo = codigo\n",
    "        self._saldo = 0\n",
    "\n",
    "    def __eq__(self, outro):\n",
    "        return self._codigo == outro._codigo\n",
    "    \n",
    "    def depositar(self, valor):\n",
    "        self._saldo += valor\n",
    "\n",
    "    def __str__(self):\n",
    "        return f\"[>> Codigo: {self._codigo} | Saldo: {self._saldo} <<]\""
   ]
  },
  {
   "cell_type": "code",
   "execution_count": 8,
   "metadata": {},
   "outputs": [
    {
     "data": {
      "text/plain": [
       "True"
      ]
     },
     "execution_count": 8,
     "metadata": {},
     "output_type": "execute_result"
    }
   ],
   "source": [
    "conta_1 = ContaSalario(66)\n",
    "conta_2 = ContaSalario(66)\n",
    "\n",
    "conta_1 == conta_2"
   ]
  },
  {
   "cell_type": "code",
   "execution_count": 9,
   "metadata": {},
   "outputs": [
    {
     "name": "stdout",
     "output_type": "stream",
     "text": [
      "False True True\n"
     ]
    }
   ],
   "source": [
    "print(conta_1 != conta_2, conta_1 in [conta_2], conta_2 in [conta_1])"
   ]
  },
  {
   "cell_type": "code",
   "execution_count": 10,
   "metadata": {},
   "outputs": [],
   "source": [
    "class ContaSalario:\n",
    "    def __init__(self, codigo):\n",
    "        self._codigo = codigo\n",
    "        self._saldo = 0\n",
    "\n",
    "    def __eq__(self, outro):\n",
    "        return self._codigo == outro._codigo and self._saldo == outro._saldo\n",
    "    \n",
    "    def depositar(self, valor):\n",
    "        self._saldo += valor\n",
    "\n",
    "    def __str__(self):\n",
    "        return f\"[>> Codigo: {self._codigo} | Saldo: {self._saldo} <<]\""
   ]
  },
  {
   "cell_type": "code",
   "execution_count": 13,
   "metadata": {},
   "outputs": [
    {
     "name": "stdout",
     "output_type": "stream",
     "text": [
      "True\n"
     ]
    },
    {
     "data": {
      "text/plain": [
       "False"
      ]
     },
     "execution_count": 13,
     "metadata": {},
     "output_type": "execute_result"
    }
   ],
   "source": [
    "conta_1 = ContaSalario(66)\n",
    "conta_2 = ContaSalario(66)\n",
    "\n",
    "print(conta_1 == conta_2)\n",
    "conta_1.depositar(10)\n",
    "conta_1 == conta_2"
   ]
  },
  {
   "cell_type": "code",
   "execution_count": 15,
   "metadata": {},
   "outputs": [],
   "source": [
    "class ContaSalario:\n",
    "    def __init__(self, codigo):\n",
    "        self._codigo = codigo\n",
    "        self._saldo = 0\n",
    "\n",
    "    def __eq__(self, outro):\n",
    "        if type(outro) != ContaSalario:\n",
    "            return False\n",
    "        return self._codigo == outro._codigo and self._saldo == outro._saldo\n",
    "    \n",
    "    def depositar(self, valor):\n",
    "        self._saldo += valor\n",
    "\n",
    "    def __str__(self):\n",
    "        return f\"[>> Codigo: {self._codigo} | Saldo: {self._saldo} <<]\"\n",
    "    \n",
    "class ContaCorrente:\n",
    "    def __init__(self, codigo):\n",
    "        self._codigo = codigo\n",
    "        self._saldo = 0\n",
    "    \n",
    "    def depositar(self, valor):\n",
    "        self._saldo += valor\n",
    "\n",
    "    def __str__(self):\n",
    "        return f\"[>> Codigo: {self._codigo} | Saldo: {self._saldo} <<]\""
   ]
  },
  {
   "cell_type": "code",
   "execution_count": 16,
   "metadata": {},
   "outputs": [],
   "source": [
    "conta_1 = ContaSalario(99)\n",
    "conta_2 = ContaCorrente(99)"
   ]
  },
  {
   "cell_type": "code",
   "execution_count": 17,
   "metadata": {},
   "outputs": [
    {
     "data": {
      "text/plain": [
       "False"
      ]
     },
     "execution_count": 17,
     "metadata": {},
     "output_type": "execute_result"
    }
   ],
   "source": [
    "conta_1 == conta_2"
   ]
  },
  {
   "cell_type": "code",
   "execution_count": 18,
   "metadata": {},
   "outputs": [
    {
     "data": {
      "text/plain": [
       "True"
      ]
     },
     "execution_count": 18,
     "metadata": {},
     "output_type": "execute_result"
    }
   ],
   "source": [
    "isinstance(ContaCorrente(77), ContaCorrente)"
   ]
  }
 ],
 "metadata": {
  "kernelspec": {
   "display_name": "Python 3",
   "language": "python",
   "name": "python3"
  },
  "language_info": {
   "codemirror_mode": {
    "name": "ipython",
    "version": 3
   },
   "file_extension": ".py",
   "mimetype": "text/x-python",
   "name": "python",
   "nbconvert_exporter": "python",
   "pygments_lexer": "ipython3",
   "version": "3.10.6"
  },
  "orig_nbformat": 4,
  "vscode": {
   "interpreter": {
    "hash": "916dbcbb3f70747c44a77c7bcd40155683ae19c65e1c03b4aa3499c5328201f1"
   }
  }
 },
 "nbformat": 4,
 "nbformat_minor": 2
}
